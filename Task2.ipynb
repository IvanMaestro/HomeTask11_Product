{
 "cells": [
  {
   "cell_type": "markdown",
   "id": "11460991",
   "metadata": {},
   "source": [
    "# Домашняя работа к семинару №11"
   ]
  },
  {
   "cell_type": "markdown",
   "id": "61a4413f",
   "metadata": {},
   "source": [
    "## Урок 11. Jupyter Notebook и несколько слов об аналитике\n",
    "### Исследуйте функции:\n",
    "```py\n",
    "#f = -18 * x ** 3 + 5 * x ** 2 + 10 * x - 30\n",
    "f = 2 * x ** 3 + 2 * x ** 2 - 18 * x - 18\n",
    "#f = (x ** 2 + 3) / (3 * (x + 1))\n",
    "```\n",
    "#### Определить корни\n",
    "\n",
    "- Найти интервалы, на которых функция возрастает\n",
    "\n",
    "- Найти интервалы, на которых функция убывает\n",
    "\n",
    "- Построить график\n",
    "\n",
    "- Вычислить вершину\n",
    "\n",
    "- Определить промежутки, на котором f > 0\n",
    "\n",
    "- Определить промежутки, на котором f < 0"
   ]
  },
  {
   "cell_type": "code",
   "execution_count": 1,
   "id": "939f2bb9",
   "metadata": {},
   "outputs": [],
   "source": [
    "from sympy import *\n",
    "from sympy.plotting import plot\n",
    "import math\n",
    "init_printing()"
   ]
  },
  {
   "cell_type": "code",
   "execution_count": 2,
   "id": "cb0dbf8f",
   "metadata": {},
   "outputs": [],
   "source": [
    "x = Symbol('x')\n",
    "f = 2 * x ** 3 + 2 * x ** 2 - 18 * x - 18"
   ]
  },
  {
   "cell_type": "markdown",
   "id": "7b1dd9e3",
   "metadata": {},
   "source": [
    "- ## Построить график"
   ]
  },
  {
   "cell_type": "code",
   "execution_count": 3,
   "id": "f7656ba7",
   "metadata": {
    "scrolled": true
   },
   "outputs": [
    {
     "data": {
      "image/png": "[encoded data removed]",
      "text/plain": [
       "<Figure size 640x480 with 1 Axes>"
      ]
     },
     "metadata": {},
     "output_type": "display_data"
    },
    {
     "data": {
      "text/plain": [
       "<sympy.plotting.plot.Plot at 0x293ef128310>"
      ]
     },
     "execution_count": 3,
     "metadata": {},
     "output_type": "execute_result"
    }
   ],
   "source": [
    "plot(f,(x,-5,3.5))"
   ]
  },
  {
   "cell_type": "code",
   "execution_count": 4,
   "id": "d2d9a7b4",
   "metadata": {},
   "outputs": [
    {
     "data": {
      "image/png": "[encoded data removed]",
      "text/latex": [
       "$\\displaystyle \\left\\{-3, -1, 3\\right\\}$"
      ],
      "text/plain": [
       "{-3, -1, 3}"
      ]
     },
     "execution_count": 4,
     "metadata": {},
     "output_type": "execute_result"
    }
   ],
   "source": [
    "solveset(f)"
   ]
  },
  {
   "cell_type": "code",
   "execution_count": 5,
   "id": "da18bdfe",
   "metadata": {},
   "outputs": [
    {
     "data": {
      "text/latex": [
       "$\\displaystyle \\left\\{x\\; \\middle|\\; x \\in \\mathbb{C} \\wedge 2 x^{3} + 2 x^{2} - 18 x - 18 < 0 \\right\\}$"
      ],
      "text/plain": [
       "⎧  │         ⎛   3      2                ⎞⎫\n",
       "⎨x │ x ∊ ℂ ∧ ⎝2⋅x  + 2⋅x  - 18⋅x - 18 < 0⎠⎬\n",
       "⎩  │                                      ⎭"
      ]
     },
     "execution_count": 5,
     "metadata": {},
     "output_type": "execute_result"
    }
   ],
   "source": [
    "solveset(f<0)"
   ]
  },
  {
   "cell_type": "code",
   "execution_count": 6,
   "id": "972a3aab",
   "metadata": {},
   "outputs": [
    {
     "data": {
      "text/latex": [
       "$\\displaystyle \\left\\{x\\; \\middle|\\; x \\in \\mathbb{C} \\wedge 2 x^{3} + 2 x^{2} - 18 x - 18 > 0 \\right\\}$"
      ],
      "text/plain": [
       "⎧  │         ⎛   3      2                ⎞⎫\n",
       "⎨x │ x ∊ ℂ ∧ ⎝2⋅x  + 2⋅x  - 18⋅x - 18 > 0⎠⎬\n",
       "⎩  │                                      ⎭"
      ]
     },
     "execution_count": 6,
     "metadata": {},
     "output_type": "execute_result"
    }
   ],
   "source": [
    "solveset(f>0)"
   ]
  },
  {
   "cell_type": "code",
   "execution_count": 7,
   "id": "d794e430",
   "metadata": {},
   "outputs": [
    {
     "data": {
      "image/png": "[encoded data removed]",
      "text/latex": [
       "$\\displaystyle \\left[ -\\infty, \\  - \\frac{1}{3} + \\frac{2 \\sqrt{7}}{3}, \\  - \\frac{2 \\sqrt{7}}{3} - \\frac{1}{3}, \\  \\infty\\right]$"
      ],
      "text/plain": [
       "⎡      1   2⋅√7    2⋅√7   1   ⎤\n",
       "⎢-∞, - ─ + ────, - ──── - ─, ∞⎥\n",
       "⎣      3    3       3     3   ⎦"
      ]
     },
     "execution_count": 7,
     "metadata": {},
     "output_type": "execute_result"
    }
   ],
   "source": [
    "result = [-oo, oo]\n",
    "result[1:1] = solve(diff(f),x)\n",
    "result"
   ]
  },
  {
   "cell_type": "markdown",
   "id": "d7e2f61b",
   "metadata": {},
   "source": [
    "- ## Найти интервалы, на которых функция возрастает\n",
    "\n",
    "- ## Найти интервалы, на которых функция убывает"
   ]
  },
  {
   "cell_type": "code",
   "execution_count": 8,
   "id": "baa38848",
   "metadata": {},
   "outputs": [
    {
     "name": "stdout",
     "output_type": "stream",
     "text": [
      "Убывает ['-oo, -1/3 + 2*sqrt(7)/3', '-2*sqrt(7)/3 - 1/3, oo']\n",
      "Возрастает ['-1/3 + 2*sqrt(7)/3, -2*sqrt(7)/3 - 1/3']\n"
     ]
    }
   ],
   "source": [
    "res_increase = []\n",
    "res_dicrease = []\n",
    "for i in range(1, len(result)):\n",
    "    if is_increasing(f, Interval.open(result[i-1], result[i])):\n",
    "        res_increase.append(f'{result[i-1]}, {result[i]}')\n",
    "    else:\n",
    "        res_dicrease.append(f'{result[i-1]}, {result[i]}')\n",
    "print(f'Убывает {res_dicrease}')\n",
    "print(f'Возрастает {res_increase}')"
   ]
  },
  {
   "cell_type": "markdown",
   "id": "e10c3518",
   "metadata": {},
   "source": [
    "- ## Вычислить вершину"
   ]
  },
  {
   "cell_type": "code",
   "execution_count": 9,
   "id": "d79ec8f3",
   "metadata": {},
   "outputs": [
    {
     "name": "stdout",
     "output_type": "stream",
     "text": [
      "-12*sqrt(7) - 12 + 2*(-1/3 + 2*sqrt(7)/3)**2 + 2*(-1/3 + 2*sqrt(7)/3)**3 точка минимум от -1/3 + 2*sqrt(7)/3\n",
      "2*(-2*sqrt(7)/3 - 1/3)**3 - 12 + 2*(-2*sqrt(7)/3 - 1/3)**2 + 12*sqrt(7) точка максимум от -2*sqrt(7)/3 - 1/3\n"
     ]
    }
   ],
   "source": [
    "result_func = solve(diff(f),x)\n",
    "for i in result_func:\n",
    "    check = f.subs(x, i)\n",
    "    if check < 0:\n",
    "            print(f'{check} точка минимум от {i}')\n",
    "    elif check > 0:\n",
    "            print(f'{check} точка максимум от {i}')\n",
    "    elif check == 0:\n",
    "            print(f'{check} находится на оси x')"
   ]
  },
  {
   "cell_type": "markdown",
   "id": "2eb6fc91",
   "metadata": {},
   "source": [
    "- ## Определить промежутки, на котором f > 0\n",
    "\n",
    "- ## Определить промежутки, на котором f < 0"
   ]
  },
  {
   "cell_type": "code",
   "execution_count": 10,
   "id": "59cb93ac",
   "metadata": {},
   "outputs": [
    {
     "name": "stdout",
     "output_type": "stream",
     "text": [
      "f>0 ['-3, -1', '-1, 3']\n",
      "f<0 ['-oo, -3', '3, oo']\n"
     ]
    }
   ],
   "source": [
    "result = [-oo, oo]\n",
    "result[1:1] = solve(f,x)\n",
    "result\n",
    "res_increase = []\n",
    "res_dicrease = []\n",
    "for i in range(1, len(result)):\n",
    "    if is_increasing(f, Interval.open(result[i-1], result[i])):\n",
    "        res_increase.append(f'{result[i-1]}, {result[i]}')\n",
    "    else:\n",
    "        res_dicrease.append(f'{result[i-1]}, {result[i]}')\n",
    "print(f'f>0 {res_dicrease}')\n",
    "print(f'f<0 {res_increase}')"
   ]
  },
  {
   "cell_type": "code",
   "execution_count": null,
   "id": "e406b69a",
   "metadata": {},
   "outputs": [],
   "source": []
  }
 ],
 "metadata": {
  "kernelspec": {
   "display_name": "Python 3 (ipykernel)",
   "language": "python",
   "name": "python3"
  },
  "language_info": {
   "codemirror_mode": {
    "name": "ipython",
    "version": 3
   },
   "file_extension": ".py",
   "mimetype": "text/x-python",
   "name": "python",
   "nbconvert_exporter": "python",
   "pygments_lexer": "ipython3",
   "version": "3.9.13"
  }
 },
 "nbformat": 4,
 "nbformat_minor": 5
}
