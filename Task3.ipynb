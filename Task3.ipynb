{
 "cells": [
  {
   "cell_type": "markdown",
   "id": "11460991",
   "metadata": {},
   "source": [
    "# Домашняя работа к семинару №11"
   ]
  },
  {
   "cell_type": "markdown",
   "id": "61a4413f",
   "metadata": {},
   "source": [
    "## Урок 11. Jupyter Notebook и несколько слов об аналитике\n",
    "### Исследуйте функции:\n",
    "```py\n",
    "#f = -18 * x ** 3 + 5 * x ** 2 + 10 * x - 30\n",
    "#f = 2 * x ** 3 + 2 * x ** 2 - 18 * x - 18\n",
    "f = (x ** 2 + 3) / (3 * (x + 1))\n",
    "```\n",
    "#### Определить корни\n",
    "\n",
    "- Найти интервалы, на которых функция возрастает\n",
    "\n",
    "- Найти интервалы, на которых функция убывает\n",
    "\n",
    "- Построить график\n",
    "\n",
    "- Вычислить вершину\n",
    "\n",
    "- Определить промежутки, на котором f > 0\n",
    "\n",
    "- Определить промежутки, на котором f < 0"
   ]
  },
  {
   "cell_type": "code",
   "execution_count": 1,
   "id": "939f2bb9",
   "metadata": {},
   "outputs": [],
   "source": [
    "from sympy import *\n",
    "from sympy.plotting import plot\n",
    "import math\n",
    "init_printing()"
   ]
  },
  {
   "cell_type": "code",
   "execution_count": 2,
   "id": "cb0dbf8f",
   "metadata": {},
   "outputs": [],
   "source": [
    "x = Symbol('x')\n",
    "f = (x ** 2 + 3) / (3 * (x + 1))"
   ]
  },
  {
   "cell_type": "markdown",
   "id": "0c8f5817",
   "metadata": {},
   "source": [
    "- ## Построить график"
   ]
  },
  {
   "cell_type": "code",
   "execution_count": 27,
   "id": "f7656ba7",
   "metadata": {
    "scrolled": true
   },
   "outputs": [
    {
     "data": {
      "image/png": "[encoded data removed]",
      "text/plain": [
       "<Figure size 640x480 with 1 Axes>"
      ]
     },
     "metadata": {},
     "output_type": "display_data"
    },
    {
     "data": {
      "text/plain": [
       "<sympy.plotting.plot.Plot at 0x1ec9592e790>"
      ]
     },
     "execution_count": 27,
     "metadata": {},
     "output_type": "execute_result"
    }
   ],
   "source": [
    "plot(f,(x,-2,2))"
   ]
  },
  {
   "cell_type": "code",
   "execution_count": 4,
   "id": "d2d9a7b4",
   "metadata": {},
   "outputs": [
    {
     "data": {
      "image/png": "[encoded data removed]",
      "text/latex": [
       "$\\displaystyle \\left\\{- \\sqrt{3} i, \\sqrt{3} i\\right\\}$"
      ],
      "text/plain": [
       "{-√3⋅ⅈ, √3⋅ⅈ}"
      ]
     },
     "execution_count": 4,
     "metadata": {},
     "output_type": "execute_result"
    }
   ],
   "source": [
    "solveset(f)"
   ]
  },
  {
   "cell_type": "code",
   "execution_count": 5,
   "id": "da18bdfe",
   "metadata": {},
   "outputs": [
    {
     "data": {
      "text/latex": [
       "$\\displaystyle \\left\\{x\\; \\middle|\\; x \\in \\mathbb{C} \\wedge \\frac{x^{2} + 3}{3 x + 3} < 0 \\right\\}$"
      ],
      "text/plain": [
       "⎧  │         ⎛  2        ⎞⎫\n",
       "⎪  │         ⎜ x  + 3    ⎟⎪\n",
       "⎨x │ x ∊ ℂ ∧ ⎜─────── < 0⎟⎬\n",
       "⎪  │         ⎝3⋅x + 3    ⎠⎪\n",
       "⎩  │                      ⎭"
      ]
     },
     "execution_count": 5,
     "metadata": {},
     "output_type": "execute_result"
    }
   ],
   "source": [
    "solveset(f<0)"
   ]
  },
  {
   "cell_type": "code",
   "execution_count": 6,
   "id": "972a3aab",
   "metadata": {},
   "outputs": [
    {
     "data": {
      "text/latex": [
       "$\\displaystyle \\left\\{x\\; \\middle|\\; x \\in \\mathbb{C} \\wedge \\frac{x^{2} + 3}{3 x + 3} > 0 \\right\\}$"
      ],
      "text/plain": [
       "⎧  │         ⎛  2        ⎞⎫\n",
       "⎪  │         ⎜ x  + 3    ⎟⎪\n",
       "⎨x │ x ∊ ℂ ∧ ⎜─────── > 0⎟⎬\n",
       "⎪  │         ⎝3⋅x + 3    ⎠⎪\n",
       "⎩  │                      ⎭"
      ]
     },
     "execution_count": 6,
     "metadata": {},
     "output_type": "execute_result"
    }
   ],
   "source": [
    "solveset(f>0)"
   ]
  },
  {
   "cell_type": "code",
   "execution_count": 7,
   "id": "d794e430",
   "metadata": {},
   "outputs": [
    {
     "data": {
      "image/png": "[encoded data removed]",
      "text/latex": [
       "$\\displaystyle \\left[ -\\infty, \\  -3, \\  1, \\  \\infty\\right]$"
      ],
      "text/plain": [
       "[-∞, -3, 1, ∞]"
      ]
     },
     "execution_count": 7,
     "metadata": {},
     "output_type": "execute_result"
    }
   ],
   "source": [
    "result = [-oo, oo]\n",
    "result[1:1] = solve(diff(f),x)\n",
    "result"
   ]
  },
  {
   "cell_type": "markdown",
   "id": "580e37ba",
   "metadata": {},
   "source": [
    "- ## Найти интервалы, на которых функция возрастает\n",
    "\n",
    "- ## Найти интервалы, на которых функция убывает"
   ]
  },
  {
   "cell_type": "code",
   "execution_count": 8,
   "id": "baa38848",
   "metadata": {},
   "outputs": [
    {
     "name": "stdout",
     "output_type": "stream",
     "text": [
      "Убывает ['-3, 1']\n",
      "Возрастает ['-oo, -3', '1, oo']\n"
     ]
    }
   ],
   "source": [
    "res_increase = []\n",
    "res_dicrease = []\n",
    "for i in range(1, len(result)):\n",
    "    if is_increasing(f, Interval.open(result[i-1], result[i])):\n",
    "        res_increase.append(f'{result[i-1]}, {result[i]}')\n",
    "    else:\n",
    "        res_dicrease.append(f'{result[i-1]}, {result[i]}')\n",
    "print(f'Убывает {res_dicrease}')\n",
    "print(f'Возрастает {res_increase}')"
   ]
  },
  {
   "cell_type": "markdown",
   "id": "3f1136c8",
   "metadata": {},
   "source": [
    "- ## Вычислить вершину"
   ]
  },
  {
   "cell_type": "code",
   "execution_count": 9,
   "id": "d79ec8f3",
   "metadata": {},
   "outputs": [
    {
     "name": "stdout",
     "output_type": "stream",
     "text": [
      "-2 точка минимум от -3\n",
      "2/3 точка максимум от 1\n"
     ]
    }
   ],
   "source": [
    "result_func = solve(diff(f),x)\n",
    "for i in result_func:\n",
    "    check = f.subs(x, i)\n",
    "    if check < 0:\n",
    "            print(f'{check} точка минимум от {i}')\n",
    "    elif check > 0:\n",
    "            print(f'{check} точка максимум от {i}')\n",
    "    elif check == 0:\n",
    "            print(f'{check} находится на оси x')"
   ]
  },
  {
   "cell_type": "markdown",
   "id": "2fa1cb5c",
   "metadata": {},
   "source": [
    "- ## Определить промежутки, на котором f > 0\n",
    "\n",
    "- ## Определить промежутки, на котором f < 0"
   ]
  },
  {
   "cell_type": "code",
   "execution_count": 36,
   "id": "59cb93ac",
   "metadata": {},
   "outputs": [
    {
     "name": "stdout",
     "output_type": "stream",
     "text": [
      "f>0 ['-oo, oo']\n",
      "f<0 []\n"
     ]
    }
   ],
   "source": [
    "result = [-oo, oo]\n",
    "# result[1:1] = solve(f,x)\n",
    "result\n",
    "res_increase = []\n",
    "res_dicrease = []\n",
    "for i in range(1, len(result)):\n",
    "    if is_increasing(f, Interval.open(result[i-1], result[i])):\n",
    "        res_increase.append(f'{result[i-1]}, {result[i]}')\n",
    "    else:\n",
    "        res_dicrease.append(f'{result[i-1]}, {result[i]}')\n",
    "print(f'f>0 {res_dicrease}')\n",
    "print(f'f<0 {res_increase}')"
   ]
  },
  {
   "cell_type": "markdown",
   "id": "d171f8fb",
   "metadata": {},
   "source": [
    "Судя по графику, при x = -1 f > 0 и f < 0."
   ]
  },
  {
   "cell_type": "code",
   "execution_count": null,
   "id": "ae5d45fe",
   "metadata": {},
   "outputs": [],
   "source": []
  }
 ],
 "metadata": {
  "kernelspec": {
   "display_name": "Python 3 (ipykernel)",
   "language": "python",
   "name": "python3"
  },
  "language_info": {
   "codemirror_mode": {
    "name": "ipython",
    "version": 3
   },
   "file_extension": ".py",
   "mimetype": "text/x-python",
   "name": "python",
   "nbconvert_exporter": "python",
   "pygments_lexer": "ipython3",
   "version": "3.9.13"
  }
 },
 "nbformat": 4,
 "nbformat_minor": 5
}
